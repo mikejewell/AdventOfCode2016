{
 "cells": [
  {
   "cell_type": "code",
   "execution_count": 28,
   "metadata": {
    "collapsed": false
   },
   "outputs": [
    {
     "name": "stdout",
     "output_type": "stream",
     "text": [
      "easter\n"
     ]
    }
   ],
   "source": [
    "inp = \"\"\"eedadn\n",
    "drvtee\n",
    "eandsr\n",
    "raavrd\n",
    "atevrs\n",
    "tsrnev\n",
    "sdttsa\n",
    "rasrtv\n",
    "nssdts\n",
    "ntnada\n",
    "svetve\n",
    "tesnvt\n",
    "vntsnd\n",
    "vrdear\n",
    "dvrsen\n",
    "enarar\"\"\"\n",
    "\n",
    "import numpy as np\n",
    "import collections\n",
    "\n",
    "def decode_message(inp, common=True):\n",
    "    m = np.array([list(r) for r in inp.split(\"\\n\")]).transpose()\n",
    "    text = \"\"\n",
    "    for col in m:\n",
    "        counted = collections.Counter(col)\n",
    "        sorted_by_count = sorted(counted, key=counted.get)\n",
    "        if common:\n",
    "            text += sorted_by_count[-1]\n",
    "        else:\n",
    "            text += sorted_by_count[0]\n",
    "    return text\n",
    "\n",
    "print(decode_message(inp, common=True))"
   ]
  }
 ],
 "metadata": {
  "kernelspec": {
   "display_name": "Python (AOC)",
   "language": "python",
   "name": "aoc2016"
  },
  "language_info": {
   "codemirror_mode": {
    "name": "ipython",
    "version": 3
   },
   "file_extension": ".py",
   "mimetype": "text/x-python",
   "name": "python",
   "nbconvert_exporter": "python",
   "pygments_lexer": "ipython3",
   "version": "3.5.2"
  }
 },
 "nbformat": 4,
 "nbformat_minor": 0
}
