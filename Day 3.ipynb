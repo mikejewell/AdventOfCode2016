{
 "cells": [
  {
   "cell_type": "code",
   "execution_count": 77,
   "metadata": {
    "collapsed": false
   },
   "outputs": [
    {
     "name": "stdout",
     "output_type": "stream",
     "text": [
      "By row 3\n",
      "By col 6\n"
     ]
    }
   ],
   "source": [
    "import re\n",
    "import numpy as np\n",
    "\n",
    "inp = \"\"\"101 301 501\n",
    "102 302 502\n",
    "103 303 503\n",
    "201 401 601\n",
    "202 402 602\n",
    "203 403 603\"\"\"\n",
    "\n",
    "def verify_triangle(tri):\n",
    "    if tri[1] + tri[2] <= tri[0]:\n",
    "        return False\n",
    "    elif tri[0] + tri[2] <= tri[1]:\n",
    "        return False\n",
    "    elif tri[0] + tri[1] <= tri[2]:\n",
    "        return False\n",
    "    return True\n",
    "\n",
    "parsed = []\n",
    "for row in inp.split(\"\\n\"):\n",
    "    pieces = re.split(r\"\\s+\", row.strip())\n",
    "    tri = [int(x) for x in pieces]\n",
    "    parsed.append(tri)\n",
    "\n",
    "tri_row = np.concatenate(np.array(parsed))\n",
    "\n",
    "tri_col = np.concatenate(np.array(parsed).transpose())\n",
    "\n",
    "print(\"By row\",len([_ for tri in np.split(tri_row,len(tri_row)/3) if verify_triangle(tri)]))\n",
    "print(\"By col\",len([_ for tri in np.split(tri_col,len(tri_col)/3) if verify_triangle(tri)]))\n"
   ]
  }
 ],
 "metadata": {
  "kernelspec": {
   "display_name": "Python (AOC)",
   "language": "python",
   "name": "aoc2016"
  },
  "language_info": {
   "codemirror_mode": {
    "name": "ipython",
    "version": 3
   },
   "file_extension": ".py",
   "mimetype": "text/x-python",
   "name": "python",
   "nbconvert_exporter": "python",
   "pygments_lexer": "ipython3",
   "version": "3.5.2"
  }
 },
 "nbformat": 4,
 "nbformat_minor": 0
}
