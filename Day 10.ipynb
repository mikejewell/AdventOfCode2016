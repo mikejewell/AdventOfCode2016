{
 "cells": [
  {
   "cell_type": "code",
   "execution_count": 1,
   "metadata": {
    "collapsed": true
   },
   "outputs": [],
   "source": [
    "inp_1_test = \"\"\"value 5 goes to bot 2\n",
    "bot 2 gives low to bot 1 and high to bot 0\n",
    "value 3 goes to bot 1\n",
    "bot 1 gives low to output 1 and high to bot 0\n",
    "bot 0 gives low to output 2 and high to output 0\n",
    "value 2 goes to bot 2\"\"\"\n"
   ]
  },
  {
   "cell_type": "code",
   "execution_count": 23,
   "metadata": {
    "collapsed": false,
    "scrolled": false
   },
   "outputs": [
    {
     "name": "stdout",
     "output_type": "stream",
     "text": [
      "133163\n"
     ]
    }
   ],
   "source": [
    "import re\n",
    "\n",
    "init_cmd = re.compile(r'^value (\\d+) goes to bot (\\d+)$')\n",
    "choose_cmd = re.compile(r'^bot (\\d+) gives low to (bot|output) (\\d+) and high to (bot|output) (\\d+)$')\n",
    "\n",
    "def give_bot_val(botstate, bot, val):\n",
    "    v = int(val)\n",
    "    if bot not in botstate.keys():\n",
    "        botstate[bot] = []\n",
    "    if v not in botstate[bot]:\n",
    "        botstate[bot].append(v)\n",
    "    return botstate\n",
    "\n",
    "def parse_command(botstate, outstate, r):\n",
    "    if init_cmd.match(r):\n",
    "        match = init_cmd.match(r)\n",
    "        (val,bot) = match.groups()\n",
    "        botstate = give_bot_val(botstate, bot, val)\n",
    "    elif choose_cmd.match(r):\n",
    "        match = choose_cmd.match(r)\n",
    "        (bot,lo_dest,lo_dest_n,hi_dest,hi_dest_n) = match.groups()\n",
    "        if bot not in botstate.keys():\n",
    "            return (botstate, outstate)\n",
    "        if len(botstate[bot]) != 2:\n",
    "            return (botstate, outstate)\n",
    "        \n",
    "        lo_val = min(botstate[bot])\n",
    "        hi_val = max(botstate[bot])\n",
    "        if lo_dest == 'bot':\n",
    "            botstate = give_bot_val(botstate, lo_dest_n, lo_val)\n",
    "        elif lo_dest == 'output':\n",
    "            outstate[lo_dest_n] = lo_val        \n",
    "        if hi_dest == 'bot':\n",
    "            botstate = give_bot_val(botstate, hi_dest_n, hi_val)\n",
    "        elif hi_dest == 'output':\n",
    "            outstate[hi_dest_n] = hi_val        \n",
    "        botstate[bot] = []\n",
    "    return (botstate, outstate)\n",
    "\n",
    "def unmatched_1(botstate, outstate):\n",
    "    for bot in botstate.keys():\n",
    "        if len(botstate[bot]) < 2:\n",
    "            continue\n",
    "        lo_val = min(botstate[bot])\n",
    "        hi_val = max(botstate[bot])\n",
    "        if lo_val == 17 and hi_val == 61:\n",
    "            print(bot)\n",
    "            return False\n",
    "    return True\n",
    "\n",
    "def unmatched_2(botstate, outstate):\n",
    "    k = outstate.keys()\n",
    "    if '0' in k and '1' in k and '2' in k:\n",
    "        print(outstate['0']*outstate['1']*outstate['2'])\n",
    "        return False\n",
    "    else:\n",
    "        return True\n",
    "\n",
    "botstate = {}\n",
    "outstate = {}\n",
    "\n",
    "rows = inp_1.split(\"\\n\")\n",
    "while unmatched_2(botstate, outstate):\n",
    "    for r in rows:\n",
    "        (botstate, outstate) = parse_command(botstate, outstate, r)\n"
   ]
  }
 ],
 "metadata": {
  "kernelspec": {
   "display_name": "Python (AOC)",
   "language": "python",
   "name": "aoc2016"
  },
  "language_info": {
   "codemirror_mode": {
    "name": "ipython",
    "version": 3
   },
   "file_extension": ".py",
   "mimetype": "text/x-python",
   "name": "python",
   "nbconvert_exporter": "python",
   "pygments_lexer": "ipython3",
   "version": "3.5.2"
  }
 },
 "nbformat": 4,
 "nbformat_minor": 0
}
