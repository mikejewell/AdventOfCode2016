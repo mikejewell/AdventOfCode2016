{
 "cells": [
  {
   "cell_type": "code",
   "execution_count": 2,
   "metadata": {
    "collapsed": false
   },
   "outputs": [
    {
     "name": "stdout",
     "output_type": "stream",
     "text": [
      "3000000\n",
      "3000000\n",
      "2990000\n",
      "2990000\n"
     ]
    },
    {
     "ename": "KeyboardInterrupt",
     "evalue": "",
     "output_type": "error",
     "traceback": [
      "\u001b[0;31m---------------------------------------------------------------------------\u001b[0m",
      "\u001b[0;31mKeyboardInterrupt\u001b[0m                         Traceback (most recent call last)",
      "\u001b[0;32m<ipython-input-2-6ecd73ddbf74>\u001b[0m in \u001b[0;36m<module>\u001b[0;34m()\u001b[0m\n\u001b[1;32m     13\u001b[0m     \u001b[0;32mif\u001b[0m \u001b[0mpresents\u001b[0m\u001b[0;34m[\u001b[0m\u001b[0melf\u001b[0m\u001b[0;34m]\u001b[0m \u001b[0;34m==\u001b[0m \u001b[0;36m0\u001b[0m\u001b[0;34m:\u001b[0m\u001b[0;34m\u001b[0m\u001b[0m\n\u001b[1;32m     14\u001b[0m         \u001b[0;32mif\u001b[0m \u001b[0melf\u001b[0m \u001b[0;32min\u001b[0m \u001b[0melves\u001b[0m\u001b[0;34m:\u001b[0m\u001b[0;34m\u001b[0m\u001b[0m\n\u001b[0;32m---> 15\u001b[0;31m             \u001b[0melves\u001b[0m\u001b[0;34m.\u001b[0m\u001b[0mremove\u001b[0m\u001b[0;34m(\u001b[0m\u001b[0melf\u001b[0m\u001b[0;34m)\u001b[0m\u001b[0;34m\u001b[0m\u001b[0m\n\u001b[0m\u001b[1;32m     16\u001b[0m     \u001b[0;32melse\u001b[0m\u001b[0;34m:\u001b[0m\u001b[0;34m\u001b[0m\u001b[0m\n\u001b[1;32m     17\u001b[0m         \u001b[0mpresents\u001b[0m\u001b[0;34m[\u001b[0m\u001b[0melf\u001b[0m\u001b[0;34m]\u001b[0m \u001b[0;34m+=\u001b[0m \u001b[0mpresents\u001b[0m\u001b[0;34m[\u001b[0m\u001b[0mnext_elf\u001b[0m\u001b[0;34m]\u001b[0m\u001b[0;34m\u001b[0m\u001b[0m\n",
      "\u001b[0;31mKeyboardInterrupt\u001b[0m: "
     ]
    }
   ],
   "source": [
    "elves = list(range(3005290))\n",
    "presents = {}\n",
    "for i in elves:\n",
    "    presents[i] = 1\n",
    "done= False\n",
    "i = 0\n",
    "while not done:\n",
    "    if len(elves) % 10000 == 0:\n",
    "        print(len(elves))\n",
    "    elf = elves[i]\n",
    "    next_elf = elves[(i+1)%len(elves)]\n",
    "    \n",
    "    if presents[elf] == 0:\n",
    "        if elf in elves:\n",
    "            elves.remove(elf)\n",
    "    else:\n",
    "        presents[elf] += presents[next_elf]\n",
    "        presents[next_elf] = 0\n",
    "    i += 1\n",
    "    i = i % len(elves)\n",
    "    if len(elves) == 1:\n",
    "        done = True\n",
    "print(presents)"
   ]
  }
 ],
 "metadata": {
  "kernelspec": {
   "display_name": "Python (AOC)",
   "language": "python",
   "name": "aoc2016"
  },
  "language_info": {
   "codemirror_mode": {
    "name": "ipython",
    "version": 3
   },
   "file_extension": ".py",
   "mimetype": "text/x-python",
   "name": "python",
   "nbconvert_exporter": "python",
   "pygments_lexer": "ipython3",
   "version": "3.5.2"
  }
 },
 "nbformat": 4,
 "nbformat_minor": 0
}
