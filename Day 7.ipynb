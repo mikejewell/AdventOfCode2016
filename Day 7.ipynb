{
 "cells": [
  {
   "cell_type": "code",
   "execution_count": 117,
   "metadata": {
    "collapsed": true
   },
   "outputs": [],
   "source": [
    "inp_1_test = \"\"\"abba[mnop]qrst\n",
    "abcd[bddb]xyyx\n",
    "aaaa[qwer]tyui\n",
    "ioxxoj[asdfgh]zxcvbn\"\"\"\n",
    "\n",
    "\n",
    "inp_2_test = \"\"\"aba[bab]xyz\n",
    "xyx[xyx]xyx\n",
    "aaa[kek]eke\n",
    "zazbz[bzb]cdb\"\"\"\n",
    "                                   "
   ]
  },
  {
   "cell_type": "code",
   "execution_count": 118,
   "metadata": {
    "collapsed": false
   },
   "outputs": [
    {
     "data": {
      "text/plain": [
       "3"
      ]
     },
     "execution_count": 118,
     "metadata": {},
     "output_type": "execute_result"
    }
   ],
   "source": [
    "import re\n",
    "\n",
    "abba_checker = re.compile(r\"(.)(.)\\2\\1\")\n",
    "aba_checker = re.compile(r\"(?=(.)(.)\\1)\")\n",
    "\n",
    "def check_abba(ins, outs):\n",
    "    for s in ins:\n",
    "        matches = abba_checker.findall(s)\n",
    "        for (x,y) in matches:\n",
    "            if x != y:\n",
    "                return False\n",
    "    \n",
    "    for s in outs:\n",
    "        matches = abba_checker.findall(s)\n",
    "        for (x,y) in matches:\n",
    "            if x != y:\n",
    "                return True\n",
    "    return False\n",
    "        \n",
    "def check_aba(ins, outs):\n",
    "    pairs = []\n",
    "    for s in outs:\n",
    "        matches = aba_checker.findall(s)\n",
    "        for (x,y) in matches:\n",
    "            if x != y:\n",
    "                pairs.append((x,y))\n",
    "    for s in ins:\n",
    "        matches = aba_checker.findall(s)\n",
    "        for (x,y) in matches:\n",
    "            if x == y:\n",
    "                continue\n",
    "            else:\n",
    "                if (y,x) in pairs:\n",
    "                    return True\n",
    "    return False\n",
    "\n",
    "def get_ins_outs(s):\n",
    "    pieces = re.split(\"\\[|\\]\",s)\n",
    "    out = True\n",
    "    ins = []\n",
    "    outs = []\n",
    "    for piece in pieces:\n",
    "        if out:\n",
    "            outs.append(piece)\n",
    "        else:\n",
    "            ins.append(piece)\n",
    "        out = not out\n",
    "    return (ins, outs)\n",
    "\n",
    "len([r for r in inp_1_test.split(\"\\n\") if check_abba(*get_ins_outs(r))])\n",
    "len([r for r in inp_2_test.split(\"\\n\") if check_aba(*get_ins_outs(r))])"
   ]
  }
 ],
 "metadata": {
  "kernelspec": {
   "display_name": "Python (AOC)",
   "language": "python",
   "name": "aoc2016"
  },
  "language_info": {
   "codemirror_mode": {
    "name": "ipython",
    "version": 3
   },
   "file_extension": ".py",
   "mimetype": "text/x-python",
   "name": "python",
   "nbconvert_exporter": "python",
   "pygments_lexer": "ipython3",
   "version": "3.5.2"
  }
 },
 "nbformat": 4,
 "nbformat_minor": 0
}
