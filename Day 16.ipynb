{
 "cells": [
  {
   "cell_type": "code",
   "execution_count": 30,
   "metadata": {
    "collapsed": false
   },
   "outputs": [
    {
     "data": {
      "text/plain": [
       "'01101011101100011'"
      ]
     },
     "execution_count": 30,
     "metadata": {},
     "output_type": "execute_result"
    }
   ],
   "source": [
    "import re\n",
    "\n",
    "def permute_string(a):\n",
    "    b = str(a)[::-1].replace('1','2').replace('0','1').replace('2','0')\n",
    "    return a+\"0\"+b\n",
    "\n",
    "def generate_data(s, length):\n",
    "    while len(s) < length:\n",
    "        s = permute_string(s)\n",
    "    return s[0:length]\n",
    "\n",
    "def get_checksum(s):\n",
    "    if len(s) % 2 == 1:\n",
    "        return s\n",
    "    checksum = \"\"\n",
    "    chars = list(s)\n",
    "    pairs = zip(chars[::2], chars[1::2])\n",
    "    for (a,b) in pairs:\n",
    "        if a == b:\n",
    "            checksum += '1'\n",
    "        else:\n",
    "            checksum += '0'\n",
    "    if len(checksum) % 2 == 0:\n",
    "        return get_checksum(checksum)\n",
    "    return checksum\n",
    "\n",
    "\n",
    "assert permute_string('1') == '100'\n",
    "assert permute_string('0') == '001'\n",
    "assert permute_string('11111') == '11111000000'\n",
    "assert permute_string('111100001010') == '1111000010100101011110000'\n",
    "assert generate_data('10000', 20) == '10000011110010000111'\n",
    "assert get_checksum('110010110100') == '100'\n",
    "assert get_checksum('10000011110010000111') == '01100'\n",
    "assert get_checksum(generate_data('10000', 20)) == '01100'\n",
    "\n",
    "get_checksum(generate_data('10010000000110000', 35651584))"
   ]
  }
 ],
 "metadata": {
  "kernelspec": {
   "display_name": "Python (AOC)",
   "language": "python",
   "name": "aoc2016"
  },
  "language_info": {
   "codemirror_mode": {
    "name": "ipython",
    "version": 3
   },
   "file_extension": ".py",
   "mimetype": "text/x-python",
   "name": "python",
   "nbconvert_exporter": "python",
   "pygments_lexer": "ipython3",
   "version": "3.5.2"
  }
 },
 "nbformat": 4,
 "nbformat_minor": 0
}
