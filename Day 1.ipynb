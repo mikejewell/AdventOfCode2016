{
 "cells": [
  {
   "cell_type": "code",
   "execution_count": 60,
   "metadata": {
    "collapsed": false
   },
   "outputs": [
    {
     "name": "stdout",
     "output_type": "stream",
     "text": [
      "236\n",
      "182\n"
     ]
    }
   ],
   "source": [
    "import re\n",
    "import numpy as np\n",
    "\n",
    "deltas = np.array([\n",
    "    [0,1],\n",
    "    [1,0],\n",
    "    [0,-1],\n",
    "    [-1,0],\n",
    "])\n",
    "\n",
    "def get_tokens(s):\n",
    "    tokens = re.findall(r'(R|L)(\\d+)', s)\n",
    "    return tokens\n",
    "\n",
    "def get_distance(tokens):\n",
    "    orientation = 0\n",
    "    pos = np.array([0,0])\n",
    "    \n",
    "    for (turn,distance) in tokens:\n",
    "        orientation = (orientation + (1 if turn == 'R' else -1)) % 4\n",
    "        pos = pos + (int(distance) * deltas[orientation])\n",
    "    return np.sum(np.absolute(pos))\n",
    "\n",
    "def get_revisited(tokens):\n",
    "    orientation = 0\n",
    "    visited = []\n",
    "    pos = np.array([0,0])\n",
    "    \n",
    "    for (turn,distance) in tokens:\n",
    "        orientation = (orientation + (1 if turn == 'R' else -1)) % 4\n",
    "        delta = deltas[orientation]\n",
    "        offset = int(distance) * delta\n",
    "        destination = pos + offset\n",
    "        while not (pos == destination).all():\n",
    "            pos = np.add(pos, delta)\n",
    "            if pos.tolist() in visited:\n",
    "                return np.sum(np.absolute(pos))\n",
    "            else:\n",
    "                visited.append(pos.tolist())\n",
    "    return None\n",
    "\n",
    "\n",
    "s = \"R3, L5, R1, R2, L5, R2, R3, L2, L5, R5, L4, L3, R5, L1, R3, R4, R1, L3, R3, L2, L5, L2, R4, R5, R5, L4, L3, L3, R4, R4, R5, L5, L3, R2, R2, L3, L4, L5, R1, R3, L3, R2, L3, R5, L194, L2, L5, R2, R1, R1, L1, L5, L4, R4, R2, R2, L4, L1, R2, R53, R3, L5, R72, R2, L5, R3, L4, R187, L4, L5, L2, R1, R3, R5, L4, L4, R2, R5, L5, L4, L3, R5, L2, R1, R1, R4, L1, R2, L3, R5, L4, R2, L3, R1, L4, R4, L1, L2, R3, L1, L1, R4, R3, L4, R2, R5, L2, L3, L3, L1, R3, R5, R2, R3, R1, R2, L1, L4, L5, L2, R4, R5, L2, R4, R4, L3, R2, R1, L4, R3, L3, L4, L3, L1, R3, L2, R2, L4, L4, L5, R3, R5, R3, L2, R5, L2, L1, L5, L1, R2, R4, L5, R2, L4, L5, L4, L5, L2, L5, L4, R5, R3, R2, R2, L3, R3, L2, L5\"\n",
    "tokens = get_tokens(s)\n",
    "print(get_distance(tokens))\n",
    "print(get_revisited(tokens))"
   ]
  }
 ],
 "metadata": {
  "kernelspec": {
   "display_name": "Python (AOC)",
   "language": "python",
   "name": "aoc2016"
  },
  "language_info": {
   "codemirror_mode": {
    "name": "ipython",
    "version": 3
   },
   "file_extension": ".py",
   "mimetype": "text/x-python",
   "name": "python",
   "nbconvert_exporter": "python",
   "pygments_lexer": "ipython3",
   "version": "3.5.2"
  }
 },
 "nbformat": 4,
 "nbformat_minor": 0
}
