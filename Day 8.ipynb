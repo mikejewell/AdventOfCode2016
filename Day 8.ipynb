{
 "cells": [
  {
   "cell_type": "code",
   "execution_count": 61,
   "metadata": {
    "collapsed": false
   },
   "outputs": [
    {
     "name": "stdout",
     "output_type": "stream",
     "text": [
      "6.0\n",
      " #  # #\n",
      "# #    \n",
      " #     \n"
     ]
    }
   ],
   "source": [
    "import numpy as np\n",
    "\n",
    "inp_1_test = \"\"\"rect 3x2\n",
    "rotate column x=1 by 1\n",
    "rotate row y=0 by 4\n",
    "rotate column x=1 by 1\"\"\"\n",
    "\n",
    "def run_line(l, screen, w, h):\n",
    "    pieces = l.split(\" \")\n",
    "    if pieces[0] == 'rect':\n",
    "        (rw,rh) = [int(a) for a in pieces[1].split(\"x\")]\n",
    "        for y in range(rh):\n",
    "            for x in range(rw):\n",
    "                screen[y][x] = 1\n",
    "    elif pieces[0] == 'rotate':\n",
    "        (cr, pos, offset) = (pieces[1], int(pieces[2].split(\"=\")[1]), int(pieces[4]))\n",
    "        if cr == 'column':\n",
    "            reps = []\n",
    "            for y in range(0,h):\n",
    "                new_y_pos = (y - offset) % h\n",
    "                reps.append(screen[new_y_pos][pos])\n",
    "            for i,rep in enumerate(reps):\n",
    "                screen[i][pos] = rep\n",
    "        elif cr == 'row':\n",
    "            reps = []\n",
    "            for x in range(0,w):\n",
    "                new_x_pos = (x - offset) % w\n",
    "                reps.append(screen[pos][new_x_pos])\n",
    "            screen[pos] = reps\n",
    "    return screen\n",
    "\n",
    "def print_screen(screen):\n",
    "    for row in screen:\n",
    "        l = \"\"\n",
    "        for col in row:\n",
    "            if col != 0:\n",
    "                l += \"#\"\n",
    "            else:\n",
    "                l += \" \"\n",
    "        print(l)\n",
    "\n",
    "def run_script(s, w, h):\n",
    "    screen = np.zeros((h,w))\n",
    "    for line in s.split(\"\\n\"):\n",
    "        screen = run_line(line,screen, w, h)\n",
    "    return screen\n",
    "\n",
    "screen = run_script(inp_1_test, 7, 3)\n",
    "print(np.sum(screen))\n",
    "print_screen(screen)"
   ]
  }
 ],
 "metadata": {
  "kernelspec": {
   "display_name": "Python (AOC)",
   "language": "python",
   "name": "aoc2016"
  },
  "language_info": {
   "codemirror_mode": {
    "name": "ipython",
    "version": 3
   },
   "file_extension": ".py",
   "mimetype": "text/x-python",
   "name": "python",
   "nbconvert_exporter": "python",
   "pygments_lexer": "ipython3",
   "version": "3.5.2"
  }
 },
 "nbformat": 4,
 "nbformat_minor": 0
}
