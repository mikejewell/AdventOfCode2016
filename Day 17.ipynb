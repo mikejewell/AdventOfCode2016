{
 "cells": [
  {
   "cell_type": "code",
   "execution_count": 1,
   "metadata": {
    "collapsed": true
   },
   "outputs": [],
   "source": [
    "import hashlib"
   ]
  },
  {
   "cell_type": "code",
   "execution_count": 36,
   "metadata": {
    "collapsed": false
   },
   "outputs": [
    {
     "name": "stdout",
     "output_type": "stream",
     "text": [
      "752 RDLRRDURDUDD\n"
     ]
    }
   ],
   "source": [
    "\n",
    "def get_doors(x, y, passcode, path=''):\n",
    "    state = hashlib.md5((passcode+path).encode('latin1')).hexdigest()\n",
    "    doors = ['U','D','L','R']\n",
    "    options = []\n",
    "    for i,door in enumerate(doors):\n",
    "        if x == 0 and door == 'L':\n",
    "            continue\n",
    "        if x == 3 and door == 'R':\n",
    "            continue\n",
    "        if y == 0 and door == 'U':\n",
    "            continue\n",
    "        if y == 3 and door == 'D':\n",
    "            continue\n",
    "        if state[i] in ['b','c','d','e','f']:\n",
    "            options.append(door)\n",
    "        \n",
    "    return options\n",
    "\n",
    "min_route = ''\n",
    "max_steps = 0\n",
    "def traverse(x, y, passcode, path=''):\n",
    "    global min_route, max_steps\n",
    "    if x == 3 and y == 3:\n",
    "#         print(\"Success!\", path)\n",
    "        min_route = path\n",
    "        if len(path) > max_steps:\n",
    "            max_steps = len(path)\n",
    "        return\n",
    "    \n",
    "#     if min_route != '' and len(path) > len(min_route):\n",
    "#         return\n",
    "    \n",
    "    options = get_doors(x, y, passcode, path)\n",
    "    if len(options) == 0:\n",
    "        # Stuck\n",
    "        return\n",
    "    \n",
    "    for option in options:\n",
    "        if option == 'U' and y > 0:\n",
    "            traverse(x, y-1, passcode, path+'U')\n",
    "        if option == 'D' and y < 3:\n",
    "            traverse(x, y+1, passcode, path+'D')\n",
    "        if option == 'L' and x > 0:\n",
    "            traverse(x-1, y, passcode, path+'L')\n",
    "        if option == 'R' and x < 3:\n",
    "            traverse(x+1, y, passcode, path+'R')\n",
    "\n",
    "passcode = 'pxxbnzuo'\n",
    "traverse(0, 0, passcode)\n",
    "print(max_steps, min_route)"
   ]
  }
 ],
 "metadata": {
  "kernelspec": {
   "display_name": "Python (AOC)",
   "language": "python",
   "name": "aoc2016"
  },
  "language_info": {
   "codemirror_mode": {
    "name": "ipython",
    "version": 3
   },
   "file_extension": ".py",
   "mimetype": "text/x-python",
   "name": "python",
   "nbconvert_exporter": "python",
   "pygments_lexer": "ipython3",
   "version": "3.5.2"
  }
 },
 "nbformat": 4,
 "nbformat_minor": 0
}
