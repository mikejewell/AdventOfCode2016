{
 "cells": [
  {
   "cell_type": "code",
   "execution_count": 24,
   "metadata": {
    "collapsed": false
   },
   "outputs": [
    {
     "name": "stdout",
     "output_type": "stream",
     "text": [
      "05ace8e3"
     ]
    },
    {
     "data": {
      "text/plain": [
       "['0', '5', 'a', 'c', 'e', '8', 'e', '3']"
      ]
     },
     "execution_count": 24,
     "metadata": {},
     "output_type": "execute_result"
    }
   ],
   "source": [
    "import hashlib\n",
    "from IPython.display import clear_output\n",
    "\n",
    "room = \"abc\"\n",
    "\n",
    "def get_password_1(room):\n",
    "    i = 0\n",
    "    password = \"\"\n",
    "    while len(password) < 8:\n",
    "        s = room + str(i)\n",
    "        enc = hashlib.md5(s.encode('utf-8')).hexdigest()\n",
    "        if enc.startswith(\"00000\"):\n",
    "            password += enc[5]\n",
    "        i += 1\n",
    "    return password\n",
    "\n",
    "def get_password_2(room):\n",
    "    i = 0\n",
    "    password = list(\"********\")\n",
    "    while '*' in password:\n",
    "        s = room + str(i)\n",
    "        enc = hashlib.md5(s.encode('utf-8')).hexdigest()\n",
    "        if enc.startswith(\"00000\"):\n",
    "            pos = enc[5]\n",
    "            c = enc[6]\n",
    "            if pos.isnumeric() and int(pos) < 8 and password[int(pos)] == '*':\n",
    "                password[int(pos)] = c\n",
    "                print(\"\\r\"+(\"\".join(password)), end=\"\")\n",
    "        i += 1\n",
    "    return password\n",
    "\n",
    "get_password_2(room)"
   ]
  }
 ],
 "metadata": {
  "kernelspec": {
   "display_name": "Python (AOC)",
   "language": "python",
   "name": "aoc2016"
  },
  "language_info": {
   "codemirror_mode": {
    "name": "ipython",
    "version": 3
   },
   "file_extension": ".py",
   "mimetype": "text/x-python",
   "name": "python",
   "nbconvert_exporter": "python",
   "pygments_lexer": "ipython3",
   "version": "3.5.2"
  }
 },
 "nbformat": 4,
 "nbformat_minor": 0
}
