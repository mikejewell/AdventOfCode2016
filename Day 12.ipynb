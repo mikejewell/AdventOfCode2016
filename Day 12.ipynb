{
 "cells": [
  {
   "cell_type": "code",
   "execution_count": 33,
   "metadata": {
    "collapsed": false,
    "scrolled": false
   },
   "outputs": [
    {
     "name": "stdout",
     "output_type": "stream",
     "text": [
      "{'b': 0, 'c': 0, 'pc': 6, 'a': 42, 'd': 0}\n"
     ]
    }
   ],
   "source": [
    "import re\n",
    "cp_re = re.compile(r'cpy ([abcd]|\\d+) ([abcd])')\n",
    "inc_re = re.compile(r'inc ([abcd])')\n",
    "dec_re = re.compile(r'dec ([abcd])')\n",
    "jnz_re = re.compile(r'jnz ([abcd]|\\d+) (\\-?\\d+)')\n",
    "\n",
    "inp_1_test = \"\"\"cpy 41 a\n",
    "inc a\n",
    "inc a\n",
    "dec a\n",
    "jnz a 2\n",
    "dec a\"\"\"\n",
    "\n",
    "def run_program(lines, state):\n",
    "    while state['pc'] < len(lines):\n",
    "        line = lines[state['pc']]\n",
    "        if cp_re.match(line):\n",
    "            (val, reg) = cp_re.match(line).groups()\n",
    "            if val.isdigit():\n",
    "                val = int(val)\n",
    "            else:\n",
    "                val = state[val]\n",
    "            state[reg] = val\n",
    "        elif inc_re.match(line):\n",
    "            (reg,) = inc_re.match(line).groups()\n",
    "            state[reg] += 1\n",
    "        elif dec_re.match(line):\n",
    "            (reg,) = dec_re.match(line).groups()\n",
    "            state[reg] -= 1\n",
    "        elif jnz_re.match(line):\n",
    "            (val, pos) = jnz_re.match(line).groups()\n",
    "            if val.isdigit():\n",
    "                val = int(val)\n",
    "            else:\n",
    "                val = state[val]\n",
    "            \n",
    "            if val != 0:\n",
    "                state['pc'] += int(pos)\n",
    "                continue\n",
    "        state['pc'] += 1\n",
    "    print(state)\n",
    "run_program(inp_1_test.split(\"\\n\"), {'a':0,'b':0,'c':0,'d':0, 'pc':0})\n"
   ]
  }
 ],
 "metadata": {
  "kernelspec": {
   "display_name": "Python (AOC)",
   "language": "python",
   "name": "aoc2016"
  },
  "language_info": {
   "codemirror_mode": {
    "name": "ipython",
    "version": 3
   },
   "file_extension": ".py",
   "mimetype": "text/x-python",
   "name": "python",
   "nbconvert_exporter": "python",
   "pygments_lexer": "ipython3",
   "version": "3.5.2"
  }
 },
 "nbformat": 4,
 "nbformat_minor": 0
}
