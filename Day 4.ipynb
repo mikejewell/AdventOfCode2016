{
 "cells": [
  {
   "cell_type": "code",
   "execution_count": 71,
   "metadata": {
    "collapsed": false
   },
   "outputs": [
    {
     "name": "stdout",
     "output_type": "stream",
     "text": [
      "123\n"
     ]
    }
   ],
   "source": [
    "import re\n",
    "import string\n",
    "\n",
    "rooms = \"\"\"aaaaa-bbb-z-y-x-123[abxyz]\"\"\"\n",
    "\n",
    "room_re = r'^([a-z]+)(\\d+)\\[([a-z]+)\\]$'\n",
    "atoz = string.ascii_lowercase\n",
    "    \n",
    "def get_checksum(enc):\n",
    "    letter_counts = dict(zip(atoz, [enc.count(x) for x in atoz]))\n",
    "    az_sort = sorted(letter_counts, reverse=False)\n",
    "    sc_sort = sorted(az_sort, key=letter_counts.get, reverse=True)\n",
    "    checksum = \"\".join(sc_sort[0:5])\n",
    "    return checksum\n",
    "\n",
    "def parse_room(room):\n",
    "    room = room.replace('-','')\n",
    "    pieces = re.match(room_re, room)\n",
    "    return pieces.groups()\n",
    "\n",
    "def validate_room(room):\n",
    "    (name, sector, checksum) = parse_room(room)\n",
    "    return (int(sector),checksum == get_checksum(name))\n",
    "\n",
    "def decrypt_room(room):\n",
    "    (name, sector, checksum) = parse_room(room)\n",
    "    sector = int(sector)\n",
    "    from_alpha = string.ascii_lowercase\n",
    "    dec_name = \"\".join([from_alpha[(from_alpha.index(x)+(sector%26))%26] for x in name])\n",
    "    return dec_name\n",
    "\n",
    "# Part 1\n",
    "sector_total = 0\n",
    "for room in rooms.split(\"\\n\"):\n",
    "    (sector, valid) = validate_room(room)\n",
    "    if valid:\n",
    "        sector_total += sector\n",
    "print(sector_total)\n",
    "\n",
    "# Part 2    \n",
    "for room in rooms.split(\"\\n\"):\n",
    "    decrypted = decrypt_room(room)\n",
    "    if 'northpole' in decrypted:\n",
    "        print(room)\n",
    "        "
   ]
  }
 ],
 "metadata": {
  "kernelspec": {
   "display_name": "Python (AOC)",
   "language": "python",
   "name": "aoc2016"
  },
  "language_info": {
   "codemirror_mode": {
    "name": "ipython",
    "version": 3
   },
   "file_extension": ".py",
   "mimetype": "text/x-python",
   "name": "python",
   "nbconvert_exporter": "python",
   "pygments_lexer": "ipython3",
   "version": "3.5.2"
  }
 },
 "nbformat": 4,
 "nbformat_minor": 0
}
