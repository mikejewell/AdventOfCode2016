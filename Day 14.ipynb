{
 "cells": [
  {
   "cell_type": "code",
   "execution_count": 51,
   "metadata": {
    "collapsed": false
   },
   "outputs": [
    {
     "name": "stdout",
     "output_type": "stream",
     "text": [
      "22728\n"
     ]
    }
   ],
   "source": [
    "import hashlib\n",
    "import re\n",
    "\n",
    "salt = \"yjdafjpo\"\n",
    "\n",
    "def stretch_hash(k):\n",
    "    for _ in range(2017):\n",
    "        k = hashlib.md5(k.encode('latin1')).hexdigest()\n",
    "    return k\n",
    "\n",
    "def regular_hash(k):\n",
    "    return hashlib.md5(k.encode('latin1')).hexdigest()\n",
    "\n",
    "def get_key(salt, stretch_hash=False):\n",
    "    triple_re = re.compile(r'(.)\\1\\1')\n",
    "    i = 0\n",
    "    keys = []\n",
    "    matches = []\n",
    "    while True:\n",
    "        k = salt+str(i)\n",
    "        if stretch_hash:\n",
    "            h = stretch_hash(k)\n",
    "        else:\n",
    "            h = regular_hash(k)\n",
    "            \n",
    "        for (pos,c) in matches:\n",
    "            if pos + 1000 > i:\n",
    "                if c*5 in h:\n",
    "                    keys.append(pos)\n",
    "                    if len(keys) == 64:\n",
    "                        return pos\n",
    "\n",
    "        if triple_re.findall(h):\n",
    "            matches.append((i,triple_re.findall(h)[0]))\n",
    "\n",
    "        matches = [m for m in matches if m[0] + 1000 > i]\n",
    "        i += 1\n",
    "    \n",
    "print(get_key('abc'))"
   ]
  }
 ],
 "metadata": {
  "kernelspec": {
   "display_name": "Python (AOC)",
   "language": "python",
   "name": "aoc2016"
  },
  "language_info": {
   "codemirror_mode": {
    "name": "ipython",
    "version": 3
   },
   "file_extension": ".py",
   "mimetype": "text/x-python",
   "name": "python",
   "nbconvert_exporter": "python",
   "pygments_lexer": "ipython3",
   "version": "3.5.2"
  }
 },
 "nbformat": 4,
 "nbformat_minor": 0
}
