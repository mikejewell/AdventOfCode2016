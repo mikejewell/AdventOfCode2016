{
 "cells": [
  {
   "cell_type": "code",
   "execution_count": 15,
   "metadata": {
    "collapsed": false
   },
   "outputs": [
    {
     "name": "stdout",
     "output_type": "stream",
     "text": [
      "20002936\n"
     ]
    }
   ],
   "source": [
    "start_row = '.^^.^^^..^.^..^.^^.^^^^.^^.^^...^..^...^^^..^^...^..^^^^^^..^.^^^..^.^^^^.^^^.^...^^^.^^.^^^.^.^^.^.'\n",
    "\n",
    "\"\"\"\n",
    "Its left and center tiles are traps, but its right tile is not.\n",
    "Its center and right tiles are traps, but its left tile is not.\n",
    "Only its left tile is a trap.\n",
    "Only its right tile is a trap.\"\"\"\n",
    "\n",
    "def build_row(src):\n",
    "    dst = ''\n",
    "    for i,tile in enumerate(src):\n",
    "        l = False\n",
    "        c = False\n",
    "        r = False\n",
    "        if i == 0:\n",
    "            l = True\n",
    "        else:\n",
    "            l = (src[i-1] == '.')\n",
    "        if i == len(src) - 1:\n",
    "            r = True\n",
    "        else:\n",
    "            r = (src[i+1] == '.')\n",
    "        \n",
    "        c = (src[i] == '.')\n",
    "        if not l and not c and r:\n",
    "            dst += '^'\n",
    "        elif not c and not r and l:\n",
    "            dst += '^'\n",
    "        elif not l and c and r:\n",
    "            dst += '^'\n",
    "        elif not r and c and l:\n",
    "            dst += '^'\n",
    "        else:\n",
    "            dst += '.'\n",
    "    return dst\n",
    "\n",
    "row = start_row\n",
    "safe = 0\n",
    "for x in range(400000):\n",
    "    safe += row.count('.')\n",
    "    row = build_row(row)\n",
    "print(safe)\n",
    "    "
   ]
  }
 ],
 "metadata": {
  "kernelspec": {
   "display_name": "Python (AOC)",
   "language": "python",
   "name": "aoc2016"
  },
  "language_info": {
   "codemirror_mode": {
    "name": "ipython",
    "version": 3
   },
   "file_extension": ".py",
   "mimetype": "text/x-python",
   "name": "python",
   "nbconvert_exporter": "python",
   "pygments_lexer": "ipython3",
   "version": "3.5.2"
  }
 },
 "nbformat": 4,
 "nbformat_minor": 0
}
