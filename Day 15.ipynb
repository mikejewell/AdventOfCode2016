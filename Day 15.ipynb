{
 "cells": [
  {
   "cell_type": "markdown",
   "metadata": {},
   "source": [
    "The halls open into an interior plaza containing a large kinetic sculpture. The sculpture is in a sealed enclosure and seems to involve a set of identical spherical capsules that are carried to the top and allowed to bounce through the maze of spinning pieces.\n",
    "\n",
    "Part of the sculpture is even interactive! When a button is pressed, a capsule is dropped and tries to fall through slots in a set of rotating discs to finally go through a little hole at the bottom and come out of the sculpture. If any of the slots aren't aligned with the capsule as it passes, the capsule bounces off the disc and soars away. You feel compelled to get one of those capsules.\n",
    "\n",
    "The discs pause their motion each second and come in different sizes; they seem to each have a fixed number of positions at which they stop. You decide to call the position with the slot 0, and count up for each position it reaches next.\n",
    "\n",
    "Furthermore, the discs are spaced out so that after you push the button, one second elapses before the first disc is reached, and one second elapses as the capsule passes from one disk to the one below it. So, if you push the button at time=100, then the capsule reaches the top disc at time=101, the second disc at time=102, the third disc at time=103, and so on.\n",
    "\n",
    "The button will only drop a capsule at an integer time - no fractional seconds allowed.\n",
    "\n",
    "For example, at time=0, suppose you see the following arrangement:\n",
    "\n",
    "Disc #1 has 5 positions; at time=0, it is at position 4.\n",
    "Disc #2 has 2 positions; at time=0, it is at position 1.\n",
    "If you press the button exactly at time=0, the capsule would start to fall; it would reach the first disc at time=1. Since the first disc was at position 4 at time=0, by time=1 it has ticked one position forward. As a five-position disc, the next position is 0, and the capsule falls through the slot.\n",
    "\n",
    "Then, at time=2, the capsule reaches the second disc. The second disc has ticked forward two positions at this point: it started at position 1, then continued to position 0, and finally ended up at position 1 again. Because there's only a slot at position 0, the capsule bounces away.\n",
    "\n",
    "If, however, you wait until time=5 to push the button, then when the capsule reaches each disc, the first disc will have ticked forward 5+1 = 6 times (to position 0), and the second disc will have ticked forward 5+2 = 7 times (also to position 0). In this case, the capsule would fall through the discs and come out of the machine.\n",
    "\n",
    "However, your situation has more than two discs; you've noted their positions in your puzzle input. What is the first time you can press the button to get a capsule?"
   ]
  },
  {
   "cell_type": "code",
   "execution_count": null,
   "metadata": {
    "collapsed": true
   },
   "outputs": [],
   "source": [
    "\"\"\"Disc #1 has 7 positions; at time=0, it is at position 0.\n",
    "Disc #2 has 13 positions; at time=0, it is at position 0.\n",
    "Disc #3 has 3 positions; at time=0, it is at position 2.\n",
    "Disc #4 has 5 positions; at time=0, it is at position 2.\n",
    "Disc #5 has 17 positions; at time=0, it is at position 0.\n",
    "Disc #6 has 19 positions; at time=0, it is at position 7.\"\"\""
   ]
  },
  {
   "cell_type": "code",
   "execution_count": 98,
   "metadata": {
    "collapsed": false
   },
   "outputs": [
    {
     "name": "stdout",
     "output_type": "stream",
     "text": [
      "3208099\n"
     ]
    }
   ],
   "source": [
    "\n",
    "inp_1_test = [\n",
    "    {'n':5,'p':4},\n",
    "    {'n':2,'p':1}\n",
    "]\n",
    "\n",
    "inp_1 = [\n",
    "    {'n':7,'p':0},\n",
    "    {'n':13,'p':0},\n",
    "    {'n':3,'p':2},\n",
    "    {'n':5,'p':2},\n",
    "    {'n':17,'p':0},\n",
    "    {'n':19,'p':7},\n",
    "]\n",
    "\n",
    "inp_2 = [\n",
    "    {'n':7,'p':0},\n",
    "    {'n':13,'p':0},\n",
    "    {'n':3,'p':2},\n",
    "    {'n':5,'p':2},\n",
    "    {'n':17,'p':0},\n",
    "    {'n':19,'p':7},\n",
    "    {'n':11,'p':0},\n",
    "]\n",
    "\n",
    "# Get state at time t\n",
    "def get_state(t,discs):\n",
    "    return [(disc['p']+t)%disc['n'] for disc in discs]\n",
    "\n",
    "# For each disc, test the modulos\n",
    "def run_slots(t, discs):\n",
    "    for x in range(len(discs)):\n",
    "        if get_state(t+x+1,discs)[x] != 0:\n",
    "            return False\n",
    "    return True\n",
    "\n",
    "def find_first(discs):\n",
    "    t = 0\n",
    "    # Arbitrary maximum, just in case!\n",
    "    while t < 5000000:\n",
    "        if run_slots(t,discs):\n",
    "            return t\n",
    "        t+= 1\n",
    "    return None\n",
    "\n",
    "print(find_first(inp_2))"
   ]
  }
 ],
 "metadata": {
  "kernelspec": {
   "display_name": "Python (AOC)",
   "language": "python",
   "name": "aoc2016"
  },
  "language_info": {
   "codemirror_mode": {
    "name": "ipython",
    "version": 3
   },
   "file_extension": ".py",
   "mimetype": "text/x-python",
   "name": "python",
   "nbconvert_exporter": "python",
   "pygments_lexer": "ipython3",
   "version": "3.5.2"
  }
 },
 "nbformat": 4,
 "nbformat_minor": 0
}
