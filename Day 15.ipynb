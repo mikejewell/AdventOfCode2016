{
 "cells": [
  {
   "cell_type": "code",
   "execution_count": 98,
   "metadata": {
    "collapsed": false
   },
   "outputs": [
    {
     "name": "stdout",
     "output_type": "stream",
     "text": [
      "3208099\n"
     ]
    }
   ],
   "source": [
    "\n",
    "inp_1_test = [\n",
    "    {'n':5,'p':4},\n",
    "    {'n':2,'p':1}\n",
    "]\n",
    "\n",
    "inp_1 = [\n",
    "    {'n':7,'p':0},\n",
    "    {'n':13,'p':0},\n",
    "    {'n':3,'p':2},\n",
    "    {'n':5,'p':2},\n",
    "    {'n':17,'p':0},\n",
    "    {'n':19,'p':7},\n",
    "]\n",
    "\n",
    "inp_2 = [\n",
    "    {'n':7,'p':0},\n",
    "    {'n':13,'p':0},\n",
    "    {'n':3,'p':2},\n",
    "    {'n':5,'p':2},\n",
    "    {'n':17,'p':0},\n",
    "    {'n':19,'p':7},\n",
    "    {'n':11,'p':0},\n",
    "]\n",
    "\n",
    "# Get state at time t\n",
    "def get_state(t,discs):\n",
    "    return [(disc['p']+t)%disc['n'] for disc in discs]\n",
    "\n",
    "# For each disc, test the modulos\n",
    "def run_slots(t, discs):\n",
    "    for x in range(len(discs)):\n",
    "        if get_state(t+x+1,discs)[x] != 0:\n",
    "            return False\n",
    "    return True\n",
    "\n",
    "def find_first(discs):\n",
    "    t = 0\n",
    "    # Arbitrary maximum, just in case!\n",
    "    while t < 5000000:\n",
    "        if run_slots(t,discs):\n",
    "            return t\n",
    "        t+= 1\n",
    "    return None\n",
    "\n",
    "print(find_first(inp_2))"
   ]
  }
 ],
 "metadata": {
  "kernelspec": {
   "display_name": "Python (AOC)",
   "language": "python",
   "name": "aoc2016"
  },
  "language_info": {
   "codemirror_mode": {
    "name": "ipython",
    "version": 3
   },
   "file_extension": ".py",
   "mimetype": "text/x-python",
   "name": "python",
   "nbconvert_exporter": "python",
   "pygments_lexer": "ipython3",
   "version": "3.5.2"
  }
 },
 "nbformat": 4,
 "nbformat_minor": 0
}
