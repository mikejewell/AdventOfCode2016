{
 "cells": [
  {
   "cell_type": "code",
   "execution_count": 44,
   "metadata": {
    "collapsed": false,
    "scrolled": false
   },
   "outputs": [
    {
     "name": "stdout",
     "output_type": "stream",
     "text": [
      "23\n"
     ]
    }
   ],
   "source": [
    "def is_wall(x,y,n):\n",
    "    if x < 0 or y < 0:\n",
    "        return True\n",
    "    a = x*x + 3*x + 2*x*y + y + y*y\n",
    "    a += n\n",
    "    if bin(a).count('1') % 2 == 0:\n",
    "        return False\n",
    "    else:\n",
    "        return True\n",
    "\n",
    "def get_dirs(x,y,n):\n",
    "    return [d for d in [(x,y-1),(x+1,y),(x,y+1),(x-1,y)] if not is_wall(d[0],d[1],n)]\n",
    "\n",
    "def trace(start,end,n,trail=[],maxlength=50):\n",
    "    if trail == []:\n",
    "        trail = [start]\n",
    "    if start == end:\n",
    "        return len(trail)\n",
    "    if len(trail) > maxlength:\n",
    "        return None\n",
    "    dirs = get_dirs(start[0],start[1],n)\n",
    "    \n",
    "    lengths = []\n",
    "    for (x_i,y_i) in dirs:\n",
    "        if not (x_i,y_i) in trail:\n",
    "            length = trace((x_i,y_i),end,n,trail=trail+[(x_i,y_i)], maxlength=maxlength)\n",
    "            if length is not None:\n",
    "                lengths.append(length)\n",
    "    if len(lengths) == 0:\n",
    "        return None\n",
    "    return min(lengths)\n",
    "\n",
    "def reachable_points(maxlength, n):\n",
    "    options = 0\n",
    "    for y in range(maxlength):\n",
    "        for x in range(maxlength):\n",
    "            if not is_wall(x,y,n):\n",
    "                length = trace((1,1),(x,y),n, maxlength=maxlength,trail=[])\n",
    "                if length is not None:\n",
    "                    options += 1\n",
    "    return options\n",
    "\n",
    "n = 1362\n",
    "print(reachable_points(50, n))"
   ]
  }
 ],
 "metadata": {
  "kernelspec": {
   "display_name": "Python (AOC)",
   "language": "python",
   "name": "aoc2016"
  },
  "language_info": {
   "codemirror_mode": {
    "name": "ipython",
    "version": 3
   },
   "file_extension": ".py",
   "mimetype": "text/x-python",
   "name": "python",
   "nbconvert_exporter": "python",
   "pygments_lexer": "ipython3",
   "version": "3.5.2"
  }
 },
 "nbformat": 4,
 "nbformat_minor": 0
}
